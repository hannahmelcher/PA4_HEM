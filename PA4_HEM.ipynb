{
 "cells": [
  {
   "cell_type": "markdown",
   "id": "dcc7a4cd",
   "metadata": {},
   "source": [
    "# Hannah Melcher\n",
    "## CS-150-01\n",
    "## Assignment 3 \n",
    "## Version 1"
   ]
  },
  {
   "cell_type": "markdown",
   "id": "2c9f37b3",
   "metadata": {},
   "source": [
    "### append()\n",
    "append() is the simplest way to add a new element to a list. The new element is added to the end of a list."
   ]
  },
  {
   "cell_type": "code",
   "execution_count": 1,
   "id": "7229bf42",
   "metadata": {},
   "outputs": [
    {
     "name": "stdout",
     "output_type": "stream",
     "text": [
      "['Nike', 'Adidas', 'Under Armour']\n",
      "['Nike', 'Adidas', 'Under Armour', 'Puma']\n"
     ]
    }
   ],
   "source": [
    "brands=['Nike', 'Adidas', 'Under Armour']\n",
    "print(brands)\n",
    "\n",
    "brands.append('Puma')\n",
    "print(brands)"
   ]
  },
  {
   "cell_type": "markdown",
   "id": "88856249",
   "metadata": {},
   "source": [
    "## extend()\n",
    "extend() method adds the specified elements to the end of the current list"
   ]
  },
  {
   "cell_type": "code",
   "execution_count": 8,
   "id": "657b685e",
   "metadata": {},
   "outputs": [
    {
     "name": "stdout",
     "output_type": "stream",
     "text": [
      "['red', 'blue', 'purple', 'Frank', 'Bob', 'Max']\n"
     ]
    }
   ],
   "source": [
    "colors=['red', 'blue', 'purple']\n",
    "names=['Frank', 'Bob', 'Max']\n",
    "colors.extend(names)\n",
    "print(colors)"
   ]
  },
  {
   "cell_type": "markdown",
   "id": "d57d8838",
   "metadata": {},
   "source": [
    "## insert()\n",
    "insert() is when you add a new element at any position in the list, not just at the end. You must specify the index of the new element and the value of the new item "
   ]
  },
  {
   "cell_type": "code",
   "execution_count": 9,
   "id": "62706848",
   "metadata": {},
   "outputs": [
    {
     "name": "stdout",
     "output_type": "stream",
     "text": [
      "['vanilla', 'rocky road', 'chocolate', 'strawberry']\n"
     ]
    }
   ],
   "source": [
    "flavors=['vanilla', 'chocolate', 'strawberry']\n",
    "\n",
    "flavors.insert(1, 'rocky road')\n",
    "print(flavors)"
   ]
  },
  {
   "cell_type": "markdown",
   "id": "e1c31a97",
   "metadata": {},
   "source": [
    "## remove()\n",
    "remove() is used when you do not know the position of the value you want to remove from the list. You use this method if you only know the value of the item you wish to remove from the list."
   ]
  },
  {
   "cell_type": "code",
   "execution_count": 10,
   "id": "03a95ebc",
   "metadata": {},
   "outputs": [
    {
     "name": "stdout",
     "output_type": "stream",
     "text": [
      "['Sally', 'Kate', 'Chris']\n",
      "['Sally', 'Chris']\n"
     ]
    }
   ],
   "source": [
    "party_guests=['Sally', 'Kate', 'Chris']\n",
    "print(party_guests)\n",
    "\n",
    "party_guests.remove('Kate')\n",
    "print(party_guests)"
   ]
  },
  {
   "cell_type": "markdown",
   "id": "7060f026",
   "metadata": {},
   "source": [
    "## count()\n",
    "count() method returns the number of elements with the specified value"
   ]
  },
  {
   "cell_type": "code",
   "execution_count": 17,
   "id": "2b842f80",
   "metadata": {},
   "outputs": [
    {
     "name": "stdout",
     "output_type": "stream",
     "text": [
      "1\n"
     ]
    }
   ],
   "source": [
    "fruits = [\"apple\", \"banana\", \"cherry\"]\n",
    "x=fruits.count(\"cherry\")\n",
    "print(x)"
   ]
  },
  {
   "cell_type": "markdown",
   "id": "d0df79a2",
   "metadata": {},
   "source": [
    "## index()\n",
    "index() gives the position at the first occurrence of the specified value"
   ]
  },
  {
   "cell_type": "code",
   "execution_count": 12,
   "id": "bbc6c965",
   "metadata": {},
   "outputs": [
    {
     "name": "stdout",
     "output_type": "stream",
     "text": [
      "2\n"
     ]
    }
   ],
   "source": [
    "grades = ['A', 'B', 'C']\n",
    "x = grades.index(\"C\")\n",
    "print(x)"
   ]
  },
  {
   "cell_type": "markdown",
   "id": "d22a1b76",
   "metadata": {},
   "source": [
    "## pop()\n",
    "pop() method removes the last item of the list, but lets you work with that item after its removal"
   ]
  },
  {
   "cell_type": "code",
   "execution_count": 13,
   "id": "307c567a",
   "metadata": {},
   "outputs": [
    {
     "name": "stdout",
     "output_type": "stream",
     "text": [
      "['Honda', 'BMW', 'Audi']\n",
      "['Honda', 'BMW']\n",
      "Audi\n"
     ]
    }
   ],
   "source": [
    "cars=['Honda', 'BMW', 'Audi']\n",
    "print(cars)\n",
    "\n",
    "popped_cars=cars.pop()\n",
    "print(cars)\n",
    "print(popped_cars)"
   ]
  },
  {
   "cell_type": "markdown",
   "id": "ef2d0397",
   "metadata": {},
   "source": [
    "## sorted()\n",
    "sorted() function gives a sorted list of the specified object. You can specify ascending or descending order. The list is sorted only temporarily."
   ]
  },
  {
   "cell_type": "code",
   "execution_count": 14,
   "id": "2ab0cbd9",
   "metadata": {},
   "outputs": [
    {
     "data": {
      "text/plain": [
       "[5, 10, 23, 45, 98, 102]"
      ]
     },
     "execution_count": 14,
     "metadata": {},
     "output_type": "execute_result"
    }
   ],
   "source": [
    "numbers=[10, 23, 5, 45, 98, 102]\n",
    "sorted(numbers)"
   ]
  },
  {
   "cell_type": "markdown",
   "id": "e94ea140",
   "metadata": {},
   "source": [
    "## copy()\n",
    "copy() method returns a copy of the specified list"
   ]
  },
  {
   "cell_type": "code",
   "execution_count": 18,
   "id": "76cb0d9a",
   "metadata": {},
   "outputs": [
    {
     "name": "stdout",
     "output_type": "stream",
     "text": [
      "['math', 'science', 'reading']\n"
     ]
    }
   ],
   "source": [
    "subjects=[\"math\", \"science\", \"reading\"]\n",
    "subjects.copy()\n",
    "print(subjects)"
   ]
  },
  {
   "cell_type": "markdown",
   "id": "e7f7a5da",
   "metadata": {},
   "source": [
    "## clear()\n",
    "clear() method removes all elements from a list"
   ]
  },
  {
   "cell_type": "code",
   "execution_count": 20,
   "id": "d43d7a0d",
   "metadata": {},
   "outputs": [
    {
     "name": "stdout",
     "output_type": "stream",
     "text": [
      "[]\n"
     ]
    }
   ],
   "source": [
    "fruits=['apple', 'banana', 'cherry', 'orange']\n",
    "fruits.clear()\n",
    "print(fruits)"
   ]
  },
  {
   "cell_type": "markdown",
   "id": "609b99fb",
   "metadata": {},
   "source": [
    "## list()\n",
    "a list() is a collection of items in a particular order. It can include anything you want.  Square brackets[] indicate a list and individual elements in a list are separated by commas."
   ]
  },
  {
   "cell_type": "code",
   "execution_count": 21,
   "id": "fe530c2e",
   "metadata": {},
   "outputs": [
    {
     "name": "stdout",
     "output_type": "stream",
     "text": [
      "['freshman', 'sophomore', 'junior', 'senior']\n"
     ]
    }
   ],
   "source": [
    "class_rank=['freshman', 'sophomore', 'junior', 'senior']\n",
    "print(class_rank)"
   ]
  },
  {
   "cell_type": "markdown",
   "id": "a92d8be7",
   "metadata": {},
   "source": [
    "## len() \n",
    "len() function quickly finds the length of a list"
   ]
  },
  {
   "cell_type": "code",
   "execution_count": 22,
   "id": "35f4f873",
   "metadata": {},
   "outputs": [
    {
     "data": {
      "text/plain": [
       "3"
      ]
     },
     "execution_count": 22,
     "metadata": {},
     "output_type": "execute_result"
    }
   ],
   "source": [
    "pizza_toppings=['cheese', 'pineapple', 'sausage']\n",
    "len(pizza_toppings)"
   ]
  },
  {
   "cell_type": "markdown",
   "id": "8685313d",
   "metadata": {},
   "source": [
    "## max()\n",
    "max() function identifies the maximum value in a list of numbers"
   ]
  },
  {
   "cell_type": "code",
   "execution_count": 23,
   "id": "ed54f310",
   "metadata": {},
   "outputs": [
    {
     "data": {
      "text/plain": [
       "5"
      ]
     },
     "execution_count": 23,
     "metadata": {},
     "output_type": "execute_result"
    }
   ],
   "source": [
    "digits=[0,1,2,3,4,5]\n",
    "max(digits)"
   ]
  },
  {
   "cell_type": "markdown",
   "id": "526f08b5",
   "metadata": {},
   "source": [
    "## min()\n",
    "min() function identifies the minimum value in a list of numbers"
   ]
  },
  {
   "cell_type": "code",
   "execution_count": 24,
   "id": "513fde79",
   "metadata": {},
   "outputs": [
    {
     "data": {
      "text/plain": [
       "12"
      ]
     },
     "execution_count": 24,
     "metadata": {},
     "output_type": "execute_result"
    }
   ],
   "source": [
    "numbers=[23, 67, 12, 100]\n",
    "min(numbers)"
   ]
  }
 ],
 "metadata": {
  "kernelspec": {
   "display_name": "Python 3 (ipykernel)",
   "language": "python",
   "name": "python3"
  },
  "language_info": {
   "codemirror_mode": {
    "name": "ipython",
    "version": 3
   },
   "file_extension": ".py",
   "mimetype": "text/x-python",
   "name": "python",
   "nbconvert_exporter": "python",
   "pygments_lexer": "ipython3",
   "version": "3.9.13"
  }
 },
 "nbformat": 4,
 "nbformat_minor": 5
}
